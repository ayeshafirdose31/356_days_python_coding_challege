{
  "nbformat": 4,
  "nbformat_minor": 0,
  "metadata": {
    "colab": {
      "provenance": [],
      "authorship_tag": "ABX9TyM6E6XWkXTHjP0WlMlIKqPs",
      "include_colab_link": true
    },
    "kernelspec": {
      "name": "python3",
      "display_name": "Python 3"
    },
    "language_info": {
      "name": "python"
    }
  },
  "cells": [
    {
      "cell_type": "markdown",
      "metadata": {
        "id": "view-in-github",
        "colab_type": "text"
      },
      "source": [
        "<a href=\"https://colab.research.google.com/github/ayeshafirdose31/356_days_python_coding_challege/blob/main/Day2.ipynb\" target=\"_parent\"><img src=\"https://colab.research.google.com/assets/colab-badge.svg\" alt=\"Open In Colab\"/></a>"
      ]
    },
    {
      "cell_type": "markdown",
      "source": [
        "#Numbers Divisible by 5 Until 130\n"
      ],
      "metadata": {
        "id": "zuMdBVnSdv9B"
      }
    },
    {
      "cell_type": "markdown",
      "source": [
        "1) Implement a function which takes a given ordered list as a parameter and displays numbers divisible by 5 and if a number is greater than 130 display STOP in the console.\n",
        "\n",
        "Example\n",
        "\n",
        "list1 = [12, 15, 32, 40, 52, 75, 122, 132, 150, 180, 200]\n",
        "numbers_divisible_byfive(list1)\n",
        "Output\n",
        "\n",
        "15\n",
        "40\n",
        "75\n",
        "STOP\n"
      ],
      "metadata": {
        "id": "cJdvO_TDdybN"
      }
    },
    {
      "cell_type": "code",
      "execution_count": 1,
      "metadata": {
        "id": "jSdT161ddtht"
      },
      "outputs": [],
      "source": [
        "list1 = [12, 15, 32, 40, 52, 75, 122, 132, 150, 180, 200]\n",
        "\n",
        "def num_div(list1):\n",
        "  for i in list1:\n",
        "    if i>130:\n",
        "      break\n",
        "    if i%5==0:\n",
        "      print(i)\n",
        "  print(\"STOP\")"
      ]
    },
    {
      "cell_type": "code",
      "source": [
        "list1 = [12, 15, 32, 40, 52, 75, 122, 132, 150, 180, 200]\n",
        "\n",
        "num_div(list1)"
      ],
      "metadata": {
        "colab": {
          "base_uri": "https://localhost:8080/"
        },
        "id": "mC_W1t4femnq",
        "outputId": "314ba6ef-c4a9-4aea-f774-836be7feef90"
      },
      "execution_count": 2,
      "outputs": [
        {
          "output_type": "stream",
          "name": "stdout",
          "text": [
            "15\n",
            "40\n",
            "75\n",
            "STOP\n"
          ]
        }
      ]
    },
    {
      "cell_type": "markdown",
      "source": [
        "#Factorial using Loop\n"
      ],
      "metadata": {
        "id": "nPfOdBYIe8Bx"
      }
    },
    {
      "cell_type": "markdown",
      "source": [
        "2) Implement a function that takes an integer number as a parameter and returns factorial of this number.\n",
        "\n",
        "Factorial Equation (!)\n",
        "\n",
        "5! = 5 x 4 x 3 x 2 x 1 = 120\n",
        "\n",
        "4! = 4 x 3 x 2 x 1 = 24\n",
        "\n",
        "If input is 0 then the return value will be: The factorial of 0 is 1\n",
        "\n",
        "if input is a negative number then the return value will be: Factorial does not exist for negative numbers"
      ],
      "metadata": {
        "id": "394x2DiNe_bP"
      }
    },
    {
      "cell_type": "code",
      "source": [
        "def fact(n):\n",
        "  factorial = 1\n",
        "  if n < 0:\n",
        "      print( \"Factorial does not exist for negative numbers\")\n",
        "  elif n == 0:\n",
        "      print(\"The factorial of 0 is 1\")\n",
        "  else:\n",
        "      for i in range(1, n + 1):\n",
        "          factorial = factorial * i\n",
        "      return factorial"
      ],
      "metadata": {
        "id": "m3Zi-6tnerK6"
      },
      "execution_count": 13,
      "outputs": []
    },
    {
      "cell_type": "code",
      "source": [
        "print(fact(6))"
      ],
      "metadata": {
        "colab": {
          "base_uri": "https://localhost:8080/"
        },
        "id": "FVq00f88fg1Q",
        "outputId": "02fda250-cc23-4ad6-8561-c66f4df1b215"
      },
      "execution_count": 14,
      "outputs": [
        {
          "output_type": "stream",
          "name": "stdout",
          "text": [
            "720\n"
          ]
        }
      ]
    },
    {
      "cell_type": "markdown",
      "source": [
        "#Sum, Count and Average of Entered Numbers\n"
      ],
      "metadata": {
        "id": "6kvO3zfMjcYr"
      }
    },
    {
      "cell_type": "markdown",
      "source": [
        "3) Write a program which repeatedly reads numbers until the user enters \"done\". Once “done” is entered, print out the total, count, and average of the numbers.\n",
        "\n",
        "If the user enters anything other than a number, detect their mistake using try and except and print an error message and skip to the next number.\n",
        "\n",
        "Step 1 - Create a function which checks for numbers using try and except block.\n",
        "\n",
        "Step 2 - Inside while loop ask for input\n",
        "\n",
        "Step 3 - Calculate count, sum and average\n",
        "\n",
        "Enter a number: 2\n",
        "Enter a number: 4\n",
        "Enter a number: six\n",
        "Error, please enter numeric input\n",
        "Enter a number: 6\n",
        "Enter a number: done\n",
        "12.0 3 4.0"
      ],
      "metadata": {
        "id": "6FWbdmw8jgVu"
      }
    },
    {
      "cell_type": "code",
      "source": [
        "# TODO\n",
        "def check_for_float(p_input):\n",
        "    try:\n",
        "        val = float(p_input)\n",
        "        return val\n",
        "    except (ValueError, TypeError):\n",
        "        print(\"Error, please enter numeric input\")\n",
        "        return False\n",
        "\n",
        "count = 0\n",
        "total = 0.0\n",
        "average = 0.0\n",
        "\n",
        "while True:\n",
        "    input_number = input(\"Enter a number: \")\n",
        "    if input_number == \"done\":\n",
        "        break\n",
        "\n",
        "    number = check_for_float(input_number)\n",
        "    print(number)\n",
        "    if not number:\n",
        "        continue\n",
        "\n",
        "    count += 1\n",
        "    total = total + number\n",
        "if count != 0:\n",
        "    average = total / count\n",
        "\n",
        "print(total, count, average)\n"
      ],
      "metadata": {
        "colab": {
          "base_uri": "https://localhost:8080/"
        },
        "id": "atE7dyl3ftkK",
        "outputId": "108f7c48-3667-410a-dbc9-02aeea910adf"
      },
      "execution_count": 15,
      "outputs": [
        {
          "output_type": "stream",
          "name": "stdout",
          "text": [
            "Enter a number: 3\n",
            "3.0\n",
            "Enter a number: 4\n",
            "4.0\n",
            "Enter a number: 5\n",
            "Enter a number: 6\n",
            "5.0\n",
            "6.0\n",
            "Enter a number: done\n",
            "18.0 4 4.5\n"
          ]
        }
      ]
    },
    {
      "cell_type": "markdown",
      "source": [],
      "metadata": {
        "id": "VcwXG4Itjga3"
      }
    }
  ]
}