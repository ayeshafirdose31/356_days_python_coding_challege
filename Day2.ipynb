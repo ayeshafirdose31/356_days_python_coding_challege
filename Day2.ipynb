{
  "nbformat": 4,
  "nbformat_minor": 0,
  "metadata": {
    "colab": {
      "provenance": [],
      "authorship_tag": "ABX9TyNQybhEqIhYa7wSTC80j5eI",
      "include_colab_link": true
    },
    "kernelspec": {
      "name": "python3",
      "display_name": "Python 3"
    },
    "language_info": {
      "name": "python"
    }
  },
  "cells": [
    {
      "cell_type": "markdown",
      "metadata": {
        "id": "view-in-github",
        "colab_type": "text"
      },
      "source": [
        "<a href=\"https://colab.research.google.com/github/ayeshafirdose31/356_days_python_coding_challege/blob/main/Day2.ipynb\" target=\"_parent\"><img src=\"https://colab.research.google.com/assets/colab-badge.svg\" alt=\"Open In Colab\"/></a>"
      ]
    },
    {
      "cell_type": "markdown",
      "source": [
        "#Numbers Divisible by 5 Until 130\n"
      ],
      "metadata": {
        "id": "zuMdBVnSdv9B"
      }
    },
    {
      "cell_type": "markdown",
      "source": [
        "1) Implement a function which takes a given ordered list as a parameter and displays numbers divisible by 5 and if a number is greater than 130 display STOP in the console.\n",
        "\n",
        "Example\n",
        "\n",
        "list1 = [12, 15, 32, 40, 52, 75, 122, 132, 150, 180, 200]\n",
        "numbers_divisible_byfive(list1)\n",
        "Output\n",
        "\n",
        "15\n",
        "40\n",
        "75\n",
        "STOP\n"
      ],
      "metadata": {
        "id": "cJdvO_TDdybN"
      }
    },
    {
      "cell_type": "code",
      "execution_count": 1,
      "metadata": {
        "id": "jSdT161ddtht"
      },
      "outputs": [],
      "source": [
        "list1 = [12, 15, 32, 40, 52, 75, 122, 132, 150, 180, 200]\n",
        "\n",
        "def num_div(list1):\n",
        "  for i in list1:\n",
        "    if i>130:\n",
        "      break\n",
        "    if i%5==0:\n",
        "      print(i)\n",
        "  print(\"STOP\")"
      ]
    },
    {
      "cell_type": "code",
      "source": [
        "list1 = [12, 15, 32, 40, 52, 75, 122, 132, 150, 180, 200]\n",
        "\n",
        "num_div(list1)"
      ],
      "metadata": {
        "colab": {
          "base_uri": "https://localhost:8080/"
        },
        "id": "mC_W1t4femnq",
        "outputId": "314ba6ef-c4a9-4aea-f774-836be7feef90"
      },
      "execution_count": 2,
      "outputs": [
        {
          "output_type": "stream",
          "name": "stdout",
          "text": [
            "15\n",
            "40\n",
            "75\n",
            "STOP\n"
          ]
        }
      ]
    },
    {
      "cell_type": "code",
      "source": [],
      "metadata": {
        "id": "m3Zi-6tnerK6"
      },
      "execution_count": null,
      "outputs": []
    }
  ]
}