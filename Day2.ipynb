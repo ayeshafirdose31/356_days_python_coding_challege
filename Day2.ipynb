{
  "nbformat": 4,
  "nbformat_minor": 0,
  "metadata": {
    "colab": {
      "provenance": [],
      "authorship_tag": "ABX9TyPhgDVsGLdwJDDNmfImBQ30",
      "include_colab_link": true
    },
    "kernelspec": {
      "name": "python3",
      "display_name": "Python 3"
    },
    "language_info": {
      "name": "python"
    }
  },
  "cells": [
    {
      "cell_type": "markdown",
      "metadata": {
        "id": "view-in-github",
        "colab_type": "text"
      },
      "source": [
        "<a href=\"https://colab.research.google.com/github/ayeshafirdose31/365_days_python_coding_challege/blob/main/Day2.ipynb\" target=\"_parent\"><img src=\"https://colab.research.google.com/assets/colab-badge.svg\" alt=\"Open In Colab\"/></a>"
      ]
    },
    {
      "cell_type": "markdown",
      "source": [
        "#Numbers Divisible by 5 Until 130\n"
      ],
      "metadata": {
        "id": "zuMdBVnSdv9B"
      }
    },
    {
      "cell_type": "markdown",
      "source": [
        "1) Implement a function which takes a given ordered list as a parameter and displays numbers divisible by 5 and if a number is greater than 130 display STOP in the console.\n",
        "\n",
        "Example\n",
        "\n",
        "list1 = [12, 15, 32, 40, 52, 75, 122, 132, 150, 180, 200]\n",
        "numbers_divisible_byfive(list1)\n",
        "Output\n",
        "\n",
        "15\n",
        "40\n",
        "75\n",
        "STOP\n"
      ],
      "metadata": {
        "id": "cJdvO_TDdybN"
      }
    },
    {
      "cell_type": "code",
      "execution_count": null,
      "metadata": {
        "id": "jSdT161ddtht"
      },
      "outputs": [],
      "source": [
        "list1 = [12, 15, 32, 40, 52, 75, 122, 132, 150, 180, 200]\n",
        "\n",
        "def num_div(list1):\n",
        "  for i in list1:\n",
        "    if i>130:\n",
        "      break\n",
        "    if i%5==0:\n",
        "      print(i)\n",
        "  print(\"STOP\")"
      ]
    },
    {
      "cell_type": "code",
      "source": [
        "list1 = [12, 15, 32, 40, 52, 75, 122, 132, 150, 180, 200]\n",
        "\n",
        "num_div(list1)"
      ],
      "metadata": {
        "colab": {
          "base_uri": "https://localhost:8080/"
        },
        "id": "mC_W1t4femnq",
        "outputId": "314ba6ef-c4a9-4aea-f774-836be7feef90"
      },
      "execution_count": null,
      "outputs": [
        {
          "output_type": "stream",
          "name": "stdout",
          "text": [
            "15\n",
            "40\n",
            "75\n",
            "STOP\n"
          ]
        }
      ]
    },
    {
      "cell_type": "markdown",
      "source": [
        "#Factorial using Loop\n"
      ],
      "metadata": {
        "id": "nPfOdBYIe8Bx"
      }
    },
    {
      "cell_type": "markdown",
      "source": [
        "2) Implement a function that takes an integer number as a parameter and returns factorial of this number.\n",
        "\n",
        "Factorial Equation (!)\n",
        "\n",
        "5! = 5 x 4 x 3 x 2 x 1 = 120\n",
        "\n",
        "4! = 4 x 3 x 2 x 1 = 24\n",
        "\n",
        "If input is 0 then the return value will be: The factorial of 0 is 1\n",
        "\n",
        "if input is a negative number then the return value will be: Factorial does not exist for negative numbers"
      ],
      "metadata": {
        "id": "394x2DiNe_bP"
      }
    },
    {
      "cell_type": "code",
      "source": [
        "def fact(n):\n",
        "  factorial = 1\n",
        "  if n < 0:\n",
        "      print( \"Factorial does not exist for negative numbers\")\n",
        "  elif n == 0:\n",
        "      print(\"The factorial of 0 is 1\")\n",
        "  else:\n",
        "      for i in range(1, n + 1):\n",
        "          factorial = factorial * i\n",
        "      return factorial"
      ],
      "metadata": {
        "id": "m3Zi-6tnerK6"
      },
      "execution_count": null,
      "outputs": []
    },
    {
      "cell_type": "code",
      "source": [
        "print(fact(6))"
      ],
      "metadata": {
        "colab": {
          "base_uri": "https://localhost:8080/"
        },
        "id": "FVq00f88fg1Q",
        "outputId": "02fda250-cc23-4ad6-8561-c66f4df1b215"
      },
      "execution_count": null,
      "outputs": [
        {
          "output_type": "stream",
          "name": "stdout",
          "text": [
            "720\n"
          ]
        }
      ]
    },
    {
      "cell_type": "markdown",
      "source": [
        "#Sum, Count and Average of Entered Numbers\n"
      ],
      "metadata": {
        "id": "6kvO3zfMjcYr"
      }
    },
    {
      "cell_type": "markdown",
      "source": [
        "3) Write a program which repeatedly reads numbers until the user enters \"done\". Once “done” is entered, print out the total, count, and average of the numbers.\n",
        "\n",
        "If the user enters anything other than a number, detect their mistake using try and except and print an error message and skip to the next number.\n",
        "\n",
        "Step 1 - Create a function which checks for numbers using try and except block.\n",
        "\n",
        "Step 2 - Inside while loop ask for input\n",
        "\n",
        "Step 3 - Calculate count, sum and average\n",
        "\n",
        "Enter a number: 2\n",
        "Enter a number: 4\n",
        "Enter a number: six\n",
        "Error, please enter numeric input\n",
        "Enter a number: 6\n",
        "Enter a number: done\n",
        "12.0 3 4.0"
      ],
      "metadata": {
        "id": "6FWbdmw8jgVu"
      }
    },
    {
      "cell_type": "code",
      "source": [
        "# TODO\n",
        "def check_for_float(p_input):\n",
        "    try:\n",
        "        val = float(p_input)\n",
        "        return val\n",
        "    except (ValueError, TypeError):\n",
        "        print(\"Error, please enter numeric input\")\n",
        "        return False\n",
        "\n",
        "count = 0\n",
        "total = 0.0\n",
        "average = 0.0\n",
        "\n",
        "while True:\n",
        "    input_number = input(\"Enter a number: \")\n",
        "    if input_number == \"done\":\n",
        "        break\n",
        "\n",
        "    number = check_for_float(input_number)\n",
        "    print(number)\n",
        "    if not number:\n",
        "        continue\n",
        "\n",
        "    count += 1\n",
        "    total = total + number\n",
        "if count != 0:\n",
        "    average = total / count\n",
        "\n",
        "print(total, count, average)\n"
      ],
      "metadata": {
        "colab": {
          "base_uri": "https://localhost:8080/"
        },
        "id": "atE7dyl3ftkK",
        "outputId": "108f7c48-3667-410a-dbc9-02aeea910adf"
      },
      "execution_count": null,
      "outputs": [
        {
          "output_type": "stream",
          "name": "stdout",
          "text": [
            "Enter a number: 3\n",
            "3.0\n",
            "Enter a number: 4\n",
            "4.0\n",
            "Enter a number: 5\n",
            "Enter a number: 6\n",
            "5.0\n",
            "6.0\n",
            "Enter a number: done\n",
            "18.0 4 4.5\n"
          ]
        }
      ]
    },
    {
      "cell_type": "markdown",
      "source": [
        "#Maximum and Minimum of Input Numbers\n"
      ],
      "metadata": {
        "id": "3dxTm35J1f4P"
      }
    },
    {
      "cell_type": "markdown",
      "source": [
        "4) Write another program that prompts for a list of numbers as we did in previous exercises and at the end prints out both the maximum and minimum of the inputted numbers.\n",
        "\n",
        "For Example\n",
        "\n",
        "Enter a number: 1\n",
        "Enter a number: 3\n",
        "Enter a number: 2\n",
        "Enter a number: 4\n",
        "Enter a number: done\n",
        "Output\n",
        "\n",
        "Maximum number: 4.0, Minimum number: 1.0"
      ],
      "metadata": {
        "id": "1F0rXTNU1g83"
      }
    },
    {
      "cell_type": "code",
      "source": [
        "def check_for_float(p_input):\n",
        "    try:\n",
        "        val = float(p_input)\n",
        "        return val\n",
        "    except (ValueError, TypeError):\n",
        "        print(\"Error, please enter numeric input\")\n",
        "        return False\n",
        "\n",
        "input1 = input(\"Enter a number: \")\n",
        "if input1 == \"done\":\n",
        "    quit()\n",
        "number = check_for_float(input1)\n",
        "if not number:\n",
        "    print(\"The first entered has to be number to continue..\")\n",
        "    quit()\n",
        "\n",
        "smallest = number\n",
        "biggest = number\n",
        "while True:\n",
        "    input1 = input(\"Enter a number: \")\n",
        "    if input1 == 'done':\n",
        "        break\n",
        "    number = check_for_float(input1)\n",
        "    if number > biggest:\n",
        "        biggest = number\n",
        "    if number < smallest:\n",
        "        smallest = number\n",
        "\n",
        "print(f\"Maximum number: {biggest}, Minimum number: {smallest}\")"
      ],
      "metadata": {
        "colab": {
          "base_uri": "https://localhost:8080/"
        },
        "id": "MzUxR7Qk1xn0",
        "outputId": "7f85faad-0807-44f3-e444-ca0be593b740"
      },
      "execution_count": null,
      "outputs": [
        {
          "output_type": "stream",
          "name": "stdout",
          "text": [
            "Enter a number: 4\n",
            "Enter a number: 6\n",
            "Enter a number: 7\n",
            "Enter a number: done\n",
            "Maximum number: 7.0, Minimum number: 4.0\n"
          ]
        }
      ]
    },
    {
      "cell_type": "markdown",
      "source": [
        "#Rolling Dice"
      ],
      "metadata": {
        "id": "cQOStiujbXeL"
      }
    },
    {
      "cell_type": "code",
      "source": [
        "import random\n",
        "\n",
        "roll_again =\"Y\"\n",
        "while roll_again==\"Y\":\n",
        "  dice1=random.randint(1,6)\n",
        "  dice2=random.randint(1,6)\n",
        "  print(f\"Dice 1:{dice1}\")\n",
        "  print(f\"Dice 2:{dice2}\")\n",
        "  roll_again=input(\"Woul you like to continue Y/N\")"
      ],
      "metadata": {
        "colab": {
          "base_uri": "https://localhost:8080/"
        },
        "id": "PolTDJR3bajd",
        "outputId": "d352e3a9-e9ad-486b-e5ce-dec0eac1f48c"
      },
      "execution_count": 6,
      "outputs": [
        {
          "name": "stdout",
          "output_type": "stream",
          "text": [
            "Dice 1:3\n",
            "Dice 2:6\n",
            "Woul you like to continue Y/NY\n",
            "Dice 1:4\n",
            "Dice 2:5\n",
            "Woul you like to continue Y/NN\n"
          ]
        }
      ]
    },
    {
      "cell_type": "markdown",
      "source": [
        "#Fizz Buzz\n"
      ],
      "metadata": {
        "id": "iTC6I2PKbZnZ"
      }
    },
    {
      "cell_type": "markdown",
      "source": [
        "Fizz buzz is a group word game for children to teach them about division. Players take turns to count incrementally, replacing any number divisible by five with the word \"Fizz\", and any number divisible by seven with the word \"Buzz\". Write a program where for multiples of 5 you print “Fizz”, for the multiples of 7 “Buzz” and FizzBuzz for multiples of both. Remember your answer should start from 1 and go up to and including 100.\n",
        "\n",
        "Your program should print each number from 1 to 100 in turn.\n",
        "\n",
        "When the number is divisible by 5 then instead of printing the number it should print \"Fizz\".\n",
        "\n",
        "When the number is divisible by 7, then instead of printing the number it should print \"Buzz\".\n",
        "\n",
        "And if the number is divisible by both 5 and 7 e.g. 35 then instead of the number it should print \"FizzBuzz\""
      ],
      "metadata": {
        "id": "ywqtomfYmDwf"
      }
    },
    {
      "cell_type": "code",
      "source": [
        "for i in range(1,101):\n",
        "  if i%5==0 and i%7==0:\n",
        "    print(\"fizzbuzz\")\n",
        "  elif i%5==0:\n",
        "    print(\"fizz\")\n",
        "  elif i%7==0:\n",
        "    print(\"buzz\")\n",
        "  else:\n",
        "    print(i)"
      ],
      "metadata": {
        "colab": {
          "base_uri": "https://localhost:8080/"
        },
        "id": "j6air16RY5sU",
        "outputId": "0397963e-d557-4538-a4a7-080ffb50edad"
      },
      "execution_count": 11,
      "outputs": [
        {
          "output_type": "stream",
          "name": "stdout",
          "text": [
            "1\n",
            "2\n",
            "3\n",
            "4\n",
            "fizz\n",
            "6\n",
            "buzz\n",
            "8\n",
            "9\n",
            "fizz\n",
            "11\n",
            "12\n",
            "13\n",
            "buzz\n",
            "fizz\n",
            "16\n",
            "17\n",
            "18\n",
            "19\n",
            "fizz\n",
            "buzz\n",
            "22\n",
            "23\n",
            "24\n",
            "fizz\n",
            "26\n",
            "27\n",
            "buzz\n",
            "29\n",
            "fizz\n",
            "31\n",
            "32\n",
            "33\n",
            "34\n",
            "fizzbuzz\n",
            "36\n",
            "37\n",
            "38\n",
            "39\n",
            "fizz\n",
            "41\n",
            "buzz\n",
            "43\n",
            "44\n",
            "fizz\n",
            "46\n",
            "47\n",
            "48\n",
            "buzz\n",
            "fizz\n",
            "51\n",
            "52\n",
            "53\n",
            "54\n",
            "fizz\n",
            "buzz\n",
            "57\n",
            "58\n",
            "59\n",
            "fizz\n",
            "61\n",
            "62\n",
            "buzz\n",
            "64\n",
            "fizz\n",
            "66\n",
            "67\n",
            "68\n",
            "69\n",
            "fizzbuzz\n",
            "71\n",
            "72\n",
            "73\n",
            "74\n",
            "fizz\n",
            "76\n",
            "buzz\n",
            "78\n",
            "79\n",
            "fizz\n",
            "81\n",
            "82\n",
            "83\n",
            "buzz\n",
            "fizz\n",
            "86\n",
            "87\n",
            "88\n",
            "89\n",
            "fizz\n",
            "buzz\n",
            "92\n",
            "93\n",
            "94\n",
            "fizz\n",
            "96\n",
            "97\n",
            "buzz\n",
            "99\n",
            "fizz\n"
          ]
        }
      ]
    },
    {
      "cell_type": "markdown",
      "source": [
        "5"
      ],
      "metadata": {
        "id": "VcwXG4Itjga3"
      }
    }
  ]
}