{
  "nbformat": 4,
  "nbformat_minor": 0,
  "metadata": {
    "colab": {
      "provenance": [],
      "authorship_tag": "ABX9TyPLOpb6lZcgBI587hPKEYgp",
      "include_colab_link": true
    },
    "kernelspec": {
      "name": "python3",
      "display_name": "Python 3"
    },
    "language_info": {
      "name": "python"
    }
  },
  "cells": [
    {
      "cell_type": "markdown",
      "metadata": {
        "id": "view-in-github",
        "colab_type": "text"
      },
      "source": [
        "<a href=\"https://colab.research.google.com/github/ayeshafirdose31/365_days_python_coding_challege/blob/main/Day2.ipynb\" target=\"_parent\"><img src=\"https://colab.research.google.com/assets/colab-badge.svg\" alt=\"Open In Colab\"/></a>"
      ]
    },
    {
      "cell_type": "markdown",
      "source": [
        "#Numbers Divisible by 5 Until 130\n"
      ],
      "metadata": {
        "id": "zuMdBVnSdv9B"
      }
    },
    {
      "cell_type": "markdown",
      "source": [
        "1) Implement a function which takes a given ordered list as a parameter and displays numbers divisible by 5 and if a number is greater than 130 display STOP in the console.\n",
        "\n",
        "Example\n",
        "\n",
        "list1 = [12, 15, 32, 40, 52, 75, 122, 132, 150, 180, 200]\n",
        "numbers_divisible_byfive(list1)\n",
        "Output\n",
        "\n",
        "15\n",
        "40\n",
        "75\n",
        "STOP\n"
      ],
      "metadata": {
        "id": "cJdvO_TDdybN"
      }
    },
    {
      "cell_type": "code",
      "execution_count": null,
      "metadata": {
        "id": "jSdT161ddtht"
      },
      "outputs": [],
      "source": [
        "list1 = [12, 15, 32, 40, 52, 75, 122, 132, 150, 180, 200]\n",
        "\n",
        "def num_div(list1):\n",
        "  for i in list1:\n",
        "    if i>130:\n",
        "      break\n",
        "    if i%5==0:\n",
        "      print(i)\n",
        "  print(\"STOP\")"
      ]
    },
    {
      "cell_type": "code",
      "source": [
        "list1 = [12, 15, 32, 40, 52, 75, 122, 132, 150, 180, 200]\n",
        "\n",
        "num_div(list1)"
      ],
      "metadata": {
        "colab": {
          "base_uri": "https://localhost:8080/"
        },
        "id": "mC_W1t4femnq",
        "outputId": "314ba6ef-c4a9-4aea-f774-836be7feef90"
      },
      "execution_count": null,
      "outputs": [
        {
          "output_type": "stream",
          "name": "stdout",
          "text": [
            "15\n",
            "40\n",
            "75\n",
            "STOP\n"
          ]
        }
      ]
    },
    {
      "cell_type": "markdown",
      "source": [
        "#Factorial using Loop\n"
      ],
      "metadata": {
        "id": "nPfOdBYIe8Bx"
      }
    },
    {
      "cell_type": "markdown",
      "source": [
        "2) Implement a function that takes an integer number as a parameter and returns factorial of this number.\n",
        "\n",
        "Factorial Equation (!)\n",
        "\n",
        "5! = 5 x 4 x 3 x 2 x 1 = 120\n",
        "\n",
        "4! = 4 x 3 x 2 x 1 = 24\n",
        "\n",
        "If input is 0 then the return value will be: The factorial of 0 is 1\n",
        "\n",
        "if input is a negative number then the return value will be: Factorial does not exist for negative numbers"
      ],
      "metadata": {
        "id": "394x2DiNe_bP"
      }
    },
    {
      "cell_type": "code",
      "source": [
        "def fact(n):\n",
        "  factorial = 1\n",
        "  if n < 0:\n",
        "      print( \"Factorial does not exist for negative numbers\")\n",
        "  elif n == 0:\n",
        "      print(\"The factorial of 0 is 1\")\n",
        "  else:\n",
        "      for i in range(1, n + 1):\n",
        "          factorial = factorial * i\n",
        "      return factorial"
      ],
      "metadata": {
        "id": "m3Zi-6tnerK6"
      },
      "execution_count": null,
      "outputs": []
    },
    {
      "cell_type": "code",
      "source": [
        "print(fact(6))"
      ],
      "metadata": {
        "colab": {
          "base_uri": "https://localhost:8080/"
        },
        "id": "FVq00f88fg1Q",
        "outputId": "02fda250-cc23-4ad6-8561-c66f4df1b215"
      },
      "execution_count": null,
      "outputs": [
        {
          "output_type": "stream",
          "name": "stdout",
          "text": [
            "720\n"
          ]
        }
      ]
    },
    {
      "cell_type": "markdown",
      "source": [
        "#Sum, Count and Average of Entered Numbers\n"
      ],
      "metadata": {
        "id": "6kvO3zfMjcYr"
      }
    },
    {
      "cell_type": "markdown",
      "source": [
        "3) Write a program which repeatedly reads numbers until the user enters \"done\". Once “done” is entered, print out the total, count, and average of the numbers.\n",
        "\n",
        "If the user enters anything other than a number, detect their mistake using try and except and print an error message and skip to the next number.\n",
        "\n",
        "Step 1 - Create a function which checks for numbers using try and except block.\n",
        "\n",
        "Step 2 - Inside while loop ask for input\n",
        "\n",
        "Step 3 - Calculate count, sum and average\n",
        "\n",
        "Enter a number: 2\n",
        "Enter a number: 4\n",
        "Enter a number: six\n",
        "Error, please enter numeric input\n",
        "Enter a number: 6\n",
        "Enter a number: done\n",
        "12.0 3 4.0"
      ],
      "metadata": {
        "id": "6FWbdmw8jgVu"
      }
    },
    {
      "cell_type": "code",
      "source": [
        "# TODO\n",
        "def check_for_float(p_input):\n",
        "    try:\n",
        "        val = float(p_input)\n",
        "        return val\n",
        "    except (ValueError, TypeError):\n",
        "        print(\"Error, please enter numeric input\")\n",
        "        return False\n",
        "\n",
        "count = 0\n",
        "total = 0.0\n",
        "average = 0.0\n",
        "\n",
        "while True:\n",
        "    input_number = input(\"Enter a number: \")\n",
        "    if input_number == \"done\":\n",
        "        break\n",
        "\n",
        "    number = check_for_float(input_number)\n",
        "    print(number)\n",
        "    if not number:\n",
        "        continue\n",
        "\n",
        "    count += 1\n",
        "    total = total + number\n",
        "if count != 0:\n",
        "    average = total / count\n",
        "\n",
        "print(total, count, average)\n"
      ],
      "metadata": {
        "colab": {
          "base_uri": "https://localhost:8080/"
        },
        "id": "atE7dyl3ftkK",
        "outputId": "108f7c48-3667-410a-dbc9-02aeea910adf"
      },
      "execution_count": null,
      "outputs": [
        {
          "output_type": "stream",
          "name": "stdout",
          "text": [
            "Enter a number: 3\n",
            "3.0\n",
            "Enter a number: 4\n",
            "4.0\n",
            "Enter a number: 5\n",
            "Enter a number: 6\n",
            "5.0\n",
            "6.0\n",
            "Enter a number: done\n",
            "18.0 4 4.5\n"
          ]
        }
      ]
    },
    {
      "cell_type": "markdown",
      "source": [
        "#Maximum and Minimum of Input Numbers\n"
      ],
      "metadata": {
        "id": "3dxTm35J1f4P"
      }
    },
    {
      "cell_type": "markdown",
      "source": [
        "4) Write another program that prompts for a list of numbers as we did in previous exercises and at the end prints out both the maximum and minimum of the inputted numbers.\n",
        "\n",
        "For Example\n",
        "\n",
        "Enter a number: 1\n",
        "Enter a number: 3\n",
        "Enter a number: 2\n",
        "Enter a number: 4\n",
        "Enter a number: done\n",
        "Output\n",
        "\n",
        "Maximum number: 4.0, Minimum number: 1.0"
      ],
      "metadata": {
        "id": "1F0rXTNU1g83"
      }
    },
    {
      "cell_type": "code",
      "source": [
        "def check_for_float(p_input):\n",
        "    try:\n",
        "        val = float(p_input)\n",
        "        return val\n",
        "    except (ValueError, TypeError):\n",
        "        print(\"Error, please enter numeric input\")\n",
        "        return False\n",
        "\n",
        "input1 = input(\"Enter a number: \")\n",
        "if input1 == \"done\":\n",
        "    quit()\n",
        "number = check_for_float(input1)\n",
        "if not number:\n",
        "    print(\"The first entered has to be number to continue..\")\n",
        "    quit()\n",
        "\n",
        "smallest = number\n",
        "biggest = number\n",
        "while True:\n",
        "    input1 = input(\"Enter a number: \")\n",
        "    if input1 == 'done':\n",
        "        break\n",
        "    number = check_for_float(input1)\n",
        "    if number > biggest:\n",
        "        biggest = number\n",
        "    if number < smallest:\n",
        "        smallest = number\n",
        "\n",
        "print(f\"Maximum number: {biggest}, Minimum number: {smallest}\")"
      ],
      "metadata": {
        "colab": {
          "base_uri": "https://localhost:8080/"
        },
        "id": "MzUxR7Qk1xn0",
        "outputId": "7f85faad-0807-44f3-e444-ca0be593b740"
      },
      "execution_count": null,
      "outputs": [
        {
          "output_type": "stream",
          "name": "stdout",
          "text": [
            "Enter a number: 4\n",
            "Enter a number: 6\n",
            "Enter a number: 7\n",
            "Enter a number: done\n",
            "Maximum number: 7.0, Minimum number: 4.0\n"
          ]
        }
      ]
    },
    {
      "cell_type": "markdown",
      "source": [
        "#Rolling Dice"
      ],
      "metadata": {
        "id": "cQOStiujbXeL"
      }
    },
    {
      "cell_type": "code",
      "source": [
        "import random\n",
        "\n",
        "roll_again =\"Y\"\n",
        "while roll_again==\"Y\":\n",
        "  dice1=random.randint(1,6)\n",
        "  dice2=random.randint(1,6)\n",
        "  print(f\"Dice 1:{dice1}\")\n",
        "  print(f\"Dice 2:{dice2}\")\n",
        "  roll_again=input(\"Woul you like to continue Y/N\")"
      ],
      "metadata": {
        "colab": {
          "base_uri": "https://localhost:8080/"
        },
        "id": "PolTDJR3bajd",
        "outputId": "d352e3a9-e9ad-486b-e5ce-dec0eac1f48c"
      },
      "execution_count": 6,
      "outputs": [
        {
          "name": "stdout",
          "output_type": "stream",
          "text": [
            "Dice 1:3\n",
            "Dice 2:6\n",
            "Woul you like to continue Y/NY\n",
            "Dice 1:4\n",
            "Dice 2:5\n",
            "Woul you like to continue Y/NN\n"
          ]
        }
      ]
    },
    {
      "cell_type": "markdown",
      "source": [
        "#Fizz Buzz\n"
      ],
      "metadata": {
        "id": "iTC6I2PKbZnZ"
      }
    },
    {
      "cell_type": "markdown",
      "source": [
        "Fizz buzz is a group word game for children to teach them about division. Players take turns to count incrementally, replacing any number divisible by five with the word \"Fizz\", and any number divisible by seven with the word \"Buzz\". Write a program where for multiples of 5 you print “Fizz”, for the multiples of 7 “Buzz” and FizzBuzz for multiples of both. Remember your answer should start from 1 and go up to and including 100.\n",
        "\n",
        "Your program should print each number from 1 to 100 in turn.\n",
        "\n",
        "When the number is divisible by 5 then instead of printing the number it should print \"Fizz\".\n",
        "\n",
        "When the number is divisible by 7, then instead of printing the number it should print \"Buzz\".\n",
        "\n",
        "And if the number is divisible by both 5 and 7 e.g. 35 then instead of the number it should print \"FizzBuzz\""
      ],
      "metadata": {
        "id": "ywqtomfYmDwf"
      }
    },
    {
      "cell_type": "code",
      "source": [
        "for i in range(1,101):\n",
        "  if i%5==0 and i%7==0:\n",
        "    print(\"fizzbuzz\")\n",
        "  elif i%5==0:\n",
        "    print(\"fizz\")\n",
        "  elif i%7==0:\n",
        "    print(\"buzz\")\n",
        "  else:\n",
        "    print(i)"
      ],
      "metadata": {
        "colab": {
          "base_uri": "https://localhost:8080/"
        },
        "id": "j6air16RY5sU",
        "outputId": "0397963e-d557-4538-a4a7-080ffb50edad"
      },
      "execution_count": 11,
      "outputs": [
        {
          "output_type": "stream",
          "name": "stdout",
          "text": [
            "1\n",
            "2\n",
            "3\n",
            "4\n",
            "fizz\n",
            "6\n",
            "buzz\n",
            "8\n",
            "9\n",
            "fizz\n",
            "11\n",
            "12\n",
            "13\n",
            "buzz\n",
            "fizz\n",
            "16\n",
            "17\n",
            "18\n",
            "19\n",
            "fizz\n",
            "buzz\n",
            "22\n",
            "23\n",
            "24\n",
            "fizz\n",
            "26\n",
            "27\n",
            "buzz\n",
            "29\n",
            "fizz\n",
            "31\n",
            "32\n",
            "33\n",
            "34\n",
            "fizzbuzz\n",
            "36\n",
            "37\n",
            "38\n",
            "39\n",
            "fizz\n",
            "41\n",
            "buzz\n",
            "43\n",
            "44\n",
            "fizz\n",
            "46\n",
            "47\n",
            "48\n",
            "buzz\n",
            "fizz\n",
            "51\n",
            "52\n",
            "53\n",
            "54\n",
            "fizz\n",
            "buzz\n",
            "57\n",
            "58\n",
            "59\n",
            "fizz\n",
            "61\n",
            "62\n",
            "buzz\n",
            "64\n",
            "fizz\n",
            "66\n",
            "67\n",
            "68\n",
            "69\n",
            "fizzbuzz\n",
            "71\n",
            "72\n",
            "73\n",
            "74\n",
            "fizz\n",
            "76\n",
            "buzz\n",
            "78\n",
            "79\n",
            "fizz\n",
            "81\n",
            "82\n",
            "83\n",
            "buzz\n",
            "fizz\n",
            "86\n",
            "87\n",
            "88\n",
            "89\n",
            "fizz\n",
            "buzz\n",
            "92\n",
            "93\n",
            "94\n",
            "fizz\n",
            "96\n",
            "97\n",
            "buzz\n",
            "99\n",
            "fizz\n"
          ]
        }
      ]
    },
    {
      "cell_type": "markdown",
      "source": [
        "#Guessing the Number\n"
      ],
      "metadata": {
        "id": "VcwXG4Itjga3"
      }
    },
    {
      "cell_type": "markdown",
      "source": [
        "Create a program will generate a random number unknown to the user between upper and lower bond that user provided. The user needs to guess what that number is. If the user’s guess is wrong, the program should return some sort of indication as to how wrong (e.g. The number is too high or too low). If the user guesses correctly, a positive indication should appear.\n",
        "\n",
        "Your program should ask for upper and lower bound from the user initially.\n",
        "\n",
        "Calculate chances of user based on upper and lower bounds.\n",
        "\n",
        "Based on calculated number of chances ask input from user for guessing the number.\n",
        "\n",
        "If the guessed number is greater than the generated number then print - \"You guessed too high\", otherwise print - \"You guessed too low\". And finally if the numbers match print - \"Congratulations you did it in\""
      ],
      "metadata": {
        "id": "f3rj9TXYrNGY"
      }
    },
    {
      "cell_type": "markdown",
      "source": [
        "![image.png](data:image/png;base64,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)"
      ],
      "metadata": {
        "id": "KVG0HEI6rgIR"
      }
    },
    {
      "cell_type": "code",
      "source": [
        "import math\n",
        "import random\n",
        "\n",
        "lower = int(input(\"Enter Lower bound: \"))\n",
        "upper = int(input(\"Enter Upper bound: \"))\n",
        "number_of_chances = int(math.log(upper-lower+1,2))\n",
        "print(f\"\\n\\tYou've only {number_of_chances} chances to guess the integer!\\n\")\n",
        "\n",
        "generated_number = random.randint(lower, upper)\n",
        "\n",
        "count = 0\n",
        "\n",
        "while count < number_of_chances:\n",
        "    count += 1\n",
        "    guess = int(input(\"Guess a number: \"))\n",
        "    if generated_number == guess:\n",
        "        print(f\"Congratulations you did it in {count} try\")\n",
        "        break\n",
        "    elif guess > generated_number:\n",
        "        print(\"You guessed too high!\")\n",
        "    elif guess < generated_number:\n",
        "        print(\"You guessed too low!\")\n",
        "\n",
        "print(f\"\\nThe number is {generated_number} \")\n",
        "# print(\"\\tBetter Luck Next time!\")\n",
        "\n"
      ],
      "metadata": {
        "colab": {
          "base_uri": "https://localhost:8080/"
        },
        "id": "c66PdOa_rw7i",
        "outputId": "f738151b-bac9-4fca-8cdc-dc84d782026d"
      },
      "execution_count": 13,
      "outputs": [
        {
          "output_type": "stream",
          "name": "stdout",
          "text": [
            "Enter Lower bound: 5\n",
            "Enter Upper bound: 10\n",
            "\n",
            "\tYou've only 2 chances to guess the integer!\n",
            "\n",
            "Guess a number: 5\n",
            "You guessed too low!\n",
            "Guess a number: 9\n",
            "Congratulations you did it in 2 try\n",
            "\n",
            "The number is 9 \n"
          ]
        }
      ]
    },
    {
      "cell_type": "code",
      "source": [],
      "metadata": {
        "id": "qzq-tP62uSYV"
      },
      "execution_count": null,
      "outputs": []
    }
  ]
}