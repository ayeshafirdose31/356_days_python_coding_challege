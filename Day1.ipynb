{
  "nbformat": 4,
  "nbformat_minor": 0,
  "metadata": {
    "colab": {
      "provenance": [],
      "authorship_tag": "ABX9TyORaOKEoJRLQAawC262FRit",
      "include_colab_link": true
    },
    "kernelspec": {
      "name": "python3",
      "display_name": "Python 3"
    },
    "language_info": {
      "name": "python"
    }
  },
  "cells": [
    {
      "cell_type": "markdown",
      "metadata": {
        "id": "view-in-github",
        "colab_type": "text"
      },
      "source": [
        "<a href=\"https://colab.research.google.com/github/ayeshafirdose31/356_days_python_coding_challege/blob/main/Day1.ipynb\" target=\"_parent\"><img src=\"https://colab.research.google.com/assets/colab-badge.svg\" alt=\"Open In Colab\"/></a>"
      ]
    },
    {
      "cell_type": "markdown",
      "source": [
        "#Highest Score"
      ],
      "metadata": {
        "id": "re6RTiJc2YSj"
      }
    },
    {
      "cell_type": "markdown",
      "source": [
        "1) A List of scores of students are given, implement a program that calculates the highest score from the given list.\n",
        "\n",
        "Example\n",
        "\n",
        "student_scores = [80, 60, 50, 65, 75, 55]\n",
        "\n",
        "# The highest score in the class is: 80\n",
        "\n",
        "\n",
        "Hint : DO NOT use any built in function such as max() and sum() !"
      ],
      "metadata": {
        "id": "wCjZC7I-2i0u"
      }
    },
    {
      "cell_type": "code",
      "execution_count": 4,
      "metadata": {
        "colab": {
          "base_uri": "https://localhost:8080/"
        },
        "id": "7JVMiCWAy_0L",
        "outputId": "0c20d64a-31b0-4b06-b9b7-9f9e79b3fc44"
      },
      "outputs": [
        {
          "output_type": "stream",
          "name": "stdout",
          "text": [
            "the highest score is 80\n"
          ]
        }
      ],
      "source": [
        "student_scores=[80,60,50,65,75,55]\n",
        "highest_score=0\n",
        "for i in student_scores:\n",
        "  if i>highest_score:\n",
        "    highest_score=i\n",
        "    print(\"the highest score is\",highest_score)"
      ]
    },
    {
      "cell_type": "markdown",
      "source": [
        "#Find Integer Numbers"
      ],
      "metadata": {
        "id": "HOCmzrfQA06x"
      }
    },
    {
      "cell_type": "markdown",
      "source": [
        "2) Implement a program which finds integer numbers from given List.\n",
        "\n",
        "Input\n",
        "\n",
        "custom_list = [11, 30.1, 90.2, 30, 45.1, 54, '54']\n",
        "\n",
        "Output\n",
        "\n",
        "11\n",
        "30\n",
        "54"
      ],
      "metadata": {
        "id": "0R8VJmX0A3b0"
      }
    },
    {
      "cell_type": "code",
      "source": [
        "custom_list=[11, 30.1, 90.2, 30, 45.1, 54, '54']\n",
        "int_num=[]\n",
        "for i in custom_list:\n",
        "  if type(i)==int:\n",
        "    int_num.append(i)\n",
        "print(int_num)"
      ],
      "metadata": {
        "colab": {
          "base_uri": "https://localhost:8080/"
        },
        "id": "8qjL4ncqBBZ6",
        "outputId": "81988541-90a0-459f-edc8-5d8496922c46"
      },
      "execution_count": 14,
      "outputs": [
        {
          "output_type": "stream",
          "name": "stdout",
          "text": [
            "[11, 30, 54]\n"
          ]
        }
      ]
    },
    {
      "cell_type": "markdown",
      "source": [
        "#`ANOTHER METHOD USING ISINSTANCE`\n",
        "\n",
        "\n"
      ],
      "metadata": {
        "id": "BT1-g99hDY9X"
      }
    },
    {
      "cell_type": "code",
      "source": [
        "custom_list=[11, 30.1, 90.2, 30, 45.1, 54, '54']\n",
        "for i in custom_list:\n",
        "  if isinstance(i,int):\n",
        "    print(i)"
      ],
      "metadata": {
        "colab": {
          "base_uri": "https://localhost:8080/"
        },
        "id": "blSSqZOVDXua",
        "outputId": "0b14190e-8780-42d7-d38c-03574bbb82c2"
      },
      "execution_count": 15,
      "outputs": [
        {
          "output_type": "stream",
          "name": "stdout",
          "text": [
            "11\n",
            "30\n",
            "54\n"
          ]
        }
      ]
    },
    {
      "cell_type": "markdown",
      "source": [],
      "metadata": {
        "id": "7VEAeB3ZZGdU"
      }
    },
    {
      "cell_type": "markdown",
      "source": [
        "#Sum of Above Average Scores\n"
      ],
      "metadata": {
        "id": "O3sCn1LRBArY"
      }
    },
    {
      "cell_type": "markdown",
      "source": [
        "3) Implement a function which takes a List as a parameter and returns the sum of the scores which are above average.\n",
        "\n",
        "Example\n",
        "\n",
        "student_scores = [80, 60, 50, 65, 75, 55]\n",
        "sum_score_above_average(student_scores) # 220\n",
        "\n",
        "\n",
        "Hint : DO NOT use any built in function such as sum() and len() !"
      ],
      "metadata": {
        "id": "pLhKPsmjA5-0"
      }
    },
    {
      "cell_type": "code",
      "source": [
        "student_scores = [80, 60, 50, 65, 75, 55]\n",
        "\n",
        "def sum_score_above_average(p_student_scores):\n",
        "    sum_score = 0\n",
        "    number_of_students = 0\n",
        "    for score in p_student_scores:\n",
        "        sum_score += score\n",
        "        number_of_students += 1\n",
        "    average_score = sum_score / number_of_students\n",
        "    sum_above_average = 0\n",
        "    for score in p_student_scores:\n",
        "        if score > average_score:\n",
        "            sum_above_average += score\n",
        "            print(average_score, score)\n",
        "    return sum_above_average\n",
        "\n",
        "print(sum_score_above_average(student_scores))"
      ],
      "metadata": {
        "colab": {
          "base_uri": "https://localhost:8080/"
        },
        "id": "Yok5b7RZGGIB",
        "outputId": "50ca81d1-5c31-4639-c380-1b8e9c07bbc3"
      },
      "execution_count": 21,
      "outputs": [
        {
          "output_type": "stream",
          "name": "stdout",
          "text": [
            "64.16666666666667 80\n",
            "64.16666666666667 65\n",
            "64.16666666666667 75\n",
            "220\n"
          ]
        }
      ]
    },
    {
      "cell_type": "code",
      "source": [],
      "metadata": {
        "id": "yKN-SlcDGT1C"
      },
      "execution_count": null,
      "outputs": []
    }
  ]
}