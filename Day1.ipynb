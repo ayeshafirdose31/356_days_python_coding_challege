{
  "nbformat": 4,
  "nbformat_minor": 0,
  "metadata": {
    "colab": {
      "provenance": [],
      "authorship_tag": "ABX9TyOtWbSSMyil/oQ6NCSM6cMs",
      "include_colab_link": true
    },
    "kernelspec": {
      "name": "python3",
      "display_name": "Python 3"
    },
    "language_info": {
      "name": "python"
    }
  },
  "cells": [
    {
      "cell_type": "markdown",
      "metadata": {
        "id": "view-in-github",
        "colab_type": "text"
      },
      "source": [
        "<a href=\"https://colab.research.google.com/github/ayeshafirdose31/356_days_python_coding_challege/blob/main/Day1.ipynb\" target=\"_parent\"><img src=\"https://colab.research.google.com/assets/colab-badge.svg\" alt=\"Open In Colab\"/></a>"
      ]
    },
    {
      "cell_type": "markdown",
      "source": [
        "#Highest Score"
      ],
      "metadata": {
        "id": "re6RTiJc2YSj"
      }
    },
    {
      "cell_type": "markdown",
      "source": [
        "1) A List of scores of students are given, implement a program that calculates the highest score from the given list.\n",
        "\n",
        "Example\n",
        "\n",
        "student_scores = [80, 60, 50, 65, 75, 55]\n",
        "\n",
        "# The highest score in the class is: 80\n",
        "\n",
        "\n",
        "Hint : DO NOT use any built in function such as max() and sum() !"
      ],
      "metadata": {
        "id": "wCjZC7I-2i0u"
      }
    },
    {
      "cell_type": "code",
      "execution_count": 1,
      "metadata": {
        "id": "7JVMiCWAy_0L"
      },
      "outputs": [],
      "source": [
        "student_scores=[80,60,50,65,75,55]"
      ]
    },
    {
      "cell_type": "markdown",
      "source": [],
      "metadata": {
        "id": "eNz5oV4L2kst"
      }
    }
  ]
}