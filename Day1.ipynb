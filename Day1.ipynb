{
  "nbformat": 4,
  "nbformat_minor": 0,
  "metadata": {
    "colab": {
      "provenance": [],
      "authorship_tag": "ABX9TyPp3OGuaixSN8jKBlSsyqsE",
      "include_colab_link": true
    },
    "kernelspec": {
      "name": "python3",
      "display_name": "Python 3"
    },
    "language_info": {
      "name": "python"
    }
  },
  "cells": [
    {
      "cell_type": "markdown",
      "metadata": {
        "id": "view-in-github",
        "colab_type": "text"
      },
      "source": [
        "<a href=\"https://colab.research.google.com/github/ayeshafirdose31/356_days_python_coding_challege/blob/main/Day1.ipynb\" target=\"_parent\"><img src=\"https://colab.research.google.com/assets/colab-badge.svg\" alt=\"Open In Colab\"/></a>"
      ]
    },
    {
      "cell_type": "markdown",
      "source": [
        "#Highest Score"
      ],
      "metadata": {
        "id": "re6RTiJc2YSj"
      }
    },
    {
      "cell_type": "markdown",
      "source": [
        "1) A List of scores of students are given, implement a program that calculates the highest score from the given list.\n",
        "\n",
        "Example\n",
        "\n",
        "student_scores = [80, 60, 50, 65, 75, 55]\n",
        "\n",
        "# The highest score in the class is: 80\n",
        "\n",
        "\n",
        "Hint : DO NOT use any built in function such as max() and sum() !"
      ],
      "metadata": {
        "id": "wCjZC7I-2i0u"
      }
    },
    {
      "cell_type": "code",
      "execution_count": 4,
      "metadata": {
        "colab": {
          "base_uri": "https://localhost:8080/"
        },
        "id": "7JVMiCWAy_0L",
        "outputId": "0c20d64a-31b0-4b06-b9b7-9f9e79b3fc44"
      },
      "outputs": [
        {
          "output_type": "stream",
          "name": "stdout",
          "text": [
            "the highest score is 80\n"
          ]
        }
      ],
      "source": [
        "student_scores=[80,60,50,65,75,55]\n",
        "highest_score=0\n",
        "for i in student_scores:\n",
        "  if i>highest_score:\n",
        "    highest_score=i\n",
        "    print(\"the highest score is\",highest_score)"
      ]
    }
  ]
}